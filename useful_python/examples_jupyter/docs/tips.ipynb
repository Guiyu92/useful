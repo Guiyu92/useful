{
 "cells": [
  {
   "cell_type": "code",
   "execution_count": null,
   "metadata": {
    "collapsed": true
   },
   "outputs": [],
   "source": [
    "\n",
    "# 提取文件名\n",
    "d = ret.headers['content-disposition']\n",
    "fname = re.findall(\"filename=(.+)\", d)[0]\n",
    "fname = unquote(fname)\n",
    "fname = '*\\:?\"|/<>'\n",
    "fname = re.sub(r'\\*|\\\\|:|\\?|\"|\\||\\<|\\>|\\/', '_', fname)\n",
    "fname = fname.replace(\"\\\"\", \"\")\n"
   ]
  }
 ],
 "metadata": {
  "kernelspec": {
   "display_name": "Python 2",
   "language": "python",
   "name": "python2"
  },
  "language_info": {
   "codemirror_mode": {
    "name": "ipython",
    "version": 2
   },
   "file_extension": ".py",
   "mimetype": "text/x-python",
   "name": "python",
   "nbconvert_exporter": "python",
   "pygments_lexer": "ipython2",
   "version": "2.7.6"
  }
 },
 "nbformat": 4,
 "nbformat_minor": 0
}
