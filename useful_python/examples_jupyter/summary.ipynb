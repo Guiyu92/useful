{
 "cells": [
  {
   "cell_type": "code",
   "execution_count": 2,
   "metadata": {
    "collapsed": true
   },
   "outputs": [
    {
     "name": "stdout",
     "output_type": "stream",
     "text": [
      "{1: 55, 2: 87, 3: 80, 4: 72, 5: 86, 6: 98, 7: 63, 8: 71, 9: 67}\n{6: 98}\n"
     ]
    }
   ],
   "source": [
    "# 字典推导式\n",
    "from random import randint\n",
    "\n",
    "d = {x:randint(50, 100) for x in range(1,10)}\n",
    "print(d)\n",
    "# 选出值为80以上的数据\n",
    "r = {k:v for k, v in d.items() if v > 90}\n",
    "print(r)\n"
   ]
  },
  {
   "cell_type": "code",
   "execution_count": 4,
   "metadata": {},
   "outputs": [
    {
     "name": "stdout",
     "output_type": "stream",
     "text": [
      "{1: 'a', 2: 'b', 3: 'c'}\n"
     ]
    }
   ],
   "source": [
    "# 对字典k v进行翻转\n",
    "a = {\"a\":1, \"b\":2, \"c\":3}\n",
    "d = {k:v for k, v in zip(a.values(), a.keys())}\n",
    "print(d)"
   ]
  },
  {
   "cell_type": "code",
   "execution_count": 8,
   "metadata": {},
   "outputs": [
    {
     "name": "stdout",
     "output_type": "stream",
     "text": [
      "{0, 3, 4, 7, 11, 15, 17, 18, 19, 20}\n"
     ]
    }
   ],
   "source": [
    ""
   ]
  }
 ],
 "metadata": {
  "kernelspec": {
   "display_name": "Python 2",
   "language": "python",
   "name": "python2"
  },
  "language_info": {
   "codemirror_mode": {
    "name": "ipython",
    "version": 2
   },
   "file_extension": ".py",
   "mimetype": "text/x-python",
   "name": "python",
   "nbconvert_exporter": "python",
   "pygments_lexer": "ipython2",
   "version": "2.7.6"
  }
 },
 "nbformat": 4,
 "nbformat_minor": 0
}
