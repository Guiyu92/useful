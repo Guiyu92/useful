{
 "cells": [
  {
   "cell_type": "code",
   "execution_count": 3,
   "metadata": {
    "collapsed": true
   },
   "outputs": [
    {
     "data": {
      "text/plain": [
       "\"\\n说明文档 https://selenium-python-zh.readthedocs.io/en/latest/installation.html\\nselenium 自动化测试工具 可用于爬虫\\nselenium 可以搭建远程RemoteWebDriver\\n\\n对于iframe元素需要再次切换\\nbrowers.switch_to.frame('i')\\n\\n提交表单 (WebDriver对每一个元素都有一个叫做 “submit” 的方法，如果你在一个表单内的 元素上使用该方法，WebDriver会在DOM树上就近找到最近的表单，返回提交它。)\\nelement.submit()\\n\\n节点元素的一些用法\\nelement.id\\nelement.location\\nelement.tag_name\\nelement.size\\nelement.test\\nelement.get_attribute('a')\\n\\n\\n安装 驱动\\nchromedriver 下载地址\\nhttps://chromedriver.storage.googleapis.com/index.html\\n火狐驱动下载地址\\nhttps://github.com/mozilla/geckodriver/releases\\nlinux下需要将文件放到path的路径中，如/usr/bin\\n或者也可以通过参数的方式传入驱动路径\\n\""
      ]
     },
     "execution_count": 3,
     "metadata": {},
     "output_type": "execute_result"
    }
   ],
   "source": [
    "from selenium import webdriver\n",
    "from selenium.webdriver.common.keys import Keys\n",
    "\"\"\"\n",
    "说明文档 https://selenium-python-zh.readthedocs.io/en/latest/installation.html\n",
    "selenium 自动化测试工具 可用于爬虫\n",
    "selenium 可以搭建远程RemoteWebDriver\n",
    "\n",
    "对于iframe元素需要再次切换\n",
    "browers.switch_to.frame('i')\n",
    "\n",
    "提交表单 (WebDriver对每一个元素都有一个叫做 “submit” 的方法，如果你在一个表单内的 元素上使用该方法，WebDriver会在DOM树上就近找到最近的表单，返回提交它。)\n",
    "element.submit()\n",
    "\n",
    "节点元素的一些用法\n",
    "element.id\n",
    "element.location\n",
    "element.tag_name\n",
    "element.size\n",
    "element.test\n",
    "element.get_attribute('a')\n",
    "\n",
    "\n",
    "安装 驱动\n",
    "chromedriver 下载地址\n",
    "https://chromedriver.storage.googleapis.com/index.html\n",
    "火狐驱动下载地址\n",
    "https://github.com/mozilla/geckodriver/releases\n",
    "linux下需要将文件放到path的路径中，如/usr/bin\n",
    "或者也可以通过参数的方式传入驱动路径\n",
    "\"\"\""
   ]
  },
  {
   "cell_type": "code",
   "execution_count": 5,
   "metadata": {},
   "outputs": [],
   "source": [
    "# 打开一个页面输入pycon查询\n",
    "browers = webdriver.Chrome()\n",
    "browers.get('http://www.python.org')\n",
    "# el = browers.find_element_by_id('id-search-field')\n",
    "# el.send_keys('pycon')\n",
    "# el.send_keys(Keys.ENTER)"
   ]
  },
  {
   "cell_type": "code",
   "execution_count": 4,
   "metadata": {},
   "outputs": [
    {
     "ename": "NoSuchWindowException",
     "evalue": "Message: no such window: target window already closed\nfrom unknown error: web view not found\n  (Session info: chrome=70.0.3538.67)\n  (Driver info: chromedriver=2.41.578737 (49da6702b16031c40d63e5618de03a32ff6c197e),platform=Windows NT 10.0.17134 x86_64)\n",
     "traceback": [
      "\u001b[0;31m---------------------------------------------------------------------------\u001b[0m",
      "\u001b[0;31mNoSuchWindowException\u001b[0m                     Traceback (most recent call last)",
      "\u001b[0;32m<ipython-input-4-33f40b931eed>\u001b[0m in \u001b[0;36m<module>\u001b[0;34m()\u001b[0m\n\u001b[1;32m     23\u001b[0m \u001b[0mbrowers\u001b[0m \u001b[0;34m=\u001b[0m \u001b[0mwebdriver\u001b[0m\u001b[0;34m.\u001b[0m\u001b[0mChrome\u001b[0m\u001b[0;34m(\u001b[0m\u001b[0;34m)\u001b[0m\u001b[0;34m\u001b[0m\u001b[0m\n\u001b[1;32m     24\u001b[0m \u001b[0mbrowers\u001b[0m\u001b[0;34m.\u001b[0m\u001b[0mget\u001b[0m\u001b[0;34m(\u001b[0m\u001b[0murl\u001b[0m\u001b[0;34m)\u001b[0m\u001b[0;34m\u001b[0m\u001b[0m\n\u001b[0;32m---> 25\u001b[0;31m \u001b[0mbrowers\u001b[0m\u001b[0;34m.\u001b[0m\u001b[0mswitch_to\u001b[0m\u001b[0;34m.\u001b[0m\u001b[0mframe\u001b[0m\u001b[0;34m(\u001b[0m\u001b[0;34m'i'\u001b[0m\u001b[0;34m)\u001b[0m\u001b[0;34m\u001b[0m\u001b[0m\n\u001b[0m\u001b[1;32m     26\u001b[0m \u001b[0mselect\u001b[0m \u001b[0;34m=\u001b[0m \u001b[0mSelect\u001b[0m\u001b[0;34m(\u001b[0m\u001b[0mbrowers\u001b[0m\u001b[0;34m.\u001b[0m\u001b[0mfind_element_by_name\u001b[0m\u001b[0;34m(\u001b[0m\u001b[0;34m'carlist'\u001b[0m\u001b[0;34m)\u001b[0m\u001b[0;34m)\u001b[0m\u001b[0;34m\u001b[0m\u001b[0m\n\u001b[1;32m     27\u001b[0m \u001b[0mselect\u001b[0m\u001b[0;34m.\u001b[0m\u001b[0mselect_by_index\u001b[0m\u001b[0;34m(\u001b[0m\u001b[0;36m1\u001b[0m\u001b[0;34m)\u001b[0m\u001b[0;34m\u001b[0m\u001b[0m\n",
      "\u001b[0;32mF:\\work\\spiders\\lib\\site-packages\\selenium\\webdriver\\remote\\switch_to.py\u001b[0m in \u001b[0;36mframe\u001b[0;34m(self, frame_reference)\u001b[0m\n\u001b[1;32m     87\u001b[0m                     \u001b[0;32mraise\u001b[0m \u001b[0mNoSuchFrameException\u001b[0m\u001b[0;34m(\u001b[0m\u001b[0mframe_reference\u001b[0m\u001b[0;34m)\u001b[0m\u001b[0;34m\u001b[0m\u001b[0m\n\u001b[1;32m     88\u001b[0m \u001b[0;34m\u001b[0m\u001b[0m\n\u001b[0;32m---> 89\u001b[0;31m         \u001b[0mself\u001b[0m\u001b[0;34m.\u001b[0m\u001b[0m_driver\u001b[0m\u001b[0;34m.\u001b[0m\u001b[0mexecute\u001b[0m\u001b[0;34m(\u001b[0m\u001b[0mCommand\u001b[0m\u001b[0;34m.\u001b[0m\u001b[0mSWITCH_TO_FRAME\u001b[0m\u001b[0;34m,\u001b[0m \u001b[0;34m{\u001b[0m\u001b[0;34m'id'\u001b[0m\u001b[0;34m:\u001b[0m \u001b[0mframe_reference\u001b[0m\u001b[0;34m}\u001b[0m\u001b[0;34m)\u001b[0m\u001b[0;34m\u001b[0m\u001b[0m\n\u001b[0m\u001b[1;32m     90\u001b[0m \u001b[0;34m\u001b[0m\u001b[0m\n\u001b[1;32m     91\u001b[0m     \u001b[0;32mdef\u001b[0m \u001b[0mparent_frame\u001b[0m\u001b[0;34m(\u001b[0m\u001b[0mself\u001b[0m\u001b[0;34m)\u001b[0m\u001b[0;34m:\u001b[0m\u001b[0;34m\u001b[0m\u001b[0m\n",
      "\u001b[0;32mF:\\work\\spiders\\lib\\site-packages\\selenium\\webdriver\\remote\\webdriver.py\u001b[0m in \u001b[0;36mexecute\u001b[0;34m(self, driver_command, params)\u001b[0m\n\u001b[1;32m    318\u001b[0m         \u001b[0mresponse\u001b[0m \u001b[0;34m=\u001b[0m \u001b[0mself\u001b[0m\u001b[0;34m.\u001b[0m\u001b[0mcommand_executor\u001b[0m\u001b[0;34m.\u001b[0m\u001b[0mexecute\u001b[0m\u001b[0;34m(\u001b[0m\u001b[0mdriver_command\u001b[0m\u001b[0;34m,\u001b[0m \u001b[0mparams\u001b[0m\u001b[0;34m)\u001b[0m\u001b[0;34m\u001b[0m\u001b[0m\n\u001b[1;32m    319\u001b[0m         \u001b[0;32mif\u001b[0m \u001b[0mresponse\u001b[0m\u001b[0;34m:\u001b[0m\u001b[0;34m\u001b[0m\u001b[0m\n\u001b[0;32m--> 320\u001b[0;31m             \u001b[0mself\u001b[0m\u001b[0;34m.\u001b[0m\u001b[0merror_handler\u001b[0m\u001b[0;34m.\u001b[0m\u001b[0mcheck_response\u001b[0m\u001b[0;34m(\u001b[0m\u001b[0mresponse\u001b[0m\u001b[0;34m)\u001b[0m\u001b[0;34m\u001b[0m\u001b[0m\n\u001b[0m\u001b[1;32m    321\u001b[0m             response['value'] = self._unwrap_value(\n\u001b[1;32m    322\u001b[0m                 response.get('value', None))\n",
      "\u001b[0;32mF:\\work\\spiders\\lib\\site-packages\\selenium\\webdriver\\remote\\errorhandler.py\u001b[0m in \u001b[0;36mcheck_response\u001b[0;34m(self, response)\u001b[0m\n\u001b[1;32m    240\u001b[0m                 \u001b[0malert_text\u001b[0m \u001b[0;34m=\u001b[0m \u001b[0mvalue\u001b[0m\u001b[0;34m[\u001b[0m\u001b[0;34m'alert'\u001b[0m\u001b[0;34m]\u001b[0m\u001b[0;34m.\u001b[0m\u001b[0mget\u001b[0m\u001b[0;34m(\u001b[0m\u001b[0;34m'text'\u001b[0m\u001b[0;34m)\u001b[0m\u001b[0;34m\u001b[0m\u001b[0m\n\u001b[1;32m    241\u001b[0m             \u001b[0;32mraise\u001b[0m \u001b[0mexception_class\u001b[0m\u001b[0;34m(\u001b[0m\u001b[0mmessage\u001b[0m\u001b[0;34m,\u001b[0m \u001b[0mscreen\u001b[0m\u001b[0;34m,\u001b[0m \u001b[0mstacktrace\u001b[0m\u001b[0;34m,\u001b[0m \u001b[0malert_text\u001b[0m\u001b[0;34m)\u001b[0m\u001b[0;34m\u001b[0m\u001b[0m\n\u001b[0;32m--> 242\u001b[0;31m         \u001b[0;32mraise\u001b[0m \u001b[0mexception_class\u001b[0m\u001b[0;34m(\u001b[0m\u001b[0mmessage\u001b[0m\u001b[0;34m,\u001b[0m \u001b[0mscreen\u001b[0m\u001b[0;34m,\u001b[0m \u001b[0mstacktrace\u001b[0m\u001b[0;34m)\u001b[0m\u001b[0;34m\u001b[0m\u001b[0m\n\u001b[0m\u001b[1;32m    243\u001b[0m \u001b[0;34m\u001b[0m\u001b[0m\n\u001b[1;32m    244\u001b[0m     \u001b[0;32mdef\u001b[0m \u001b[0m_value_or_default\u001b[0m\u001b[0;34m(\u001b[0m\u001b[0mself\u001b[0m\u001b[0;34m,\u001b[0m \u001b[0mobj\u001b[0m\u001b[0;34m,\u001b[0m \u001b[0mkey\u001b[0m\u001b[0;34m,\u001b[0m \u001b[0mdefault\u001b[0m\u001b[0;34m)\u001b[0m\u001b[0;34m:\u001b[0m\u001b[0;34m\u001b[0m\u001b[0m\n",
      "\u001b[0;31mNoSuchWindowException\u001b[0m: Message: no such window: target window already closed\nfrom unknown error: web view not found\n  (Session info: chrome=70.0.3538.67)\n  (Driver info: chromedriver=2.41.578737 (49da6702b16031c40d63e5618de03a32ff6c197e),platform=Windows NT 10.0.17134 x86_64)\n"
     ],
     "output_type": "error"
    }
   ],
   "source": [
    "# select 的选择\n",
    "# 只对select标签有用\n",
    "\"\"\"\n",
    "Select 的一些用法 \n",
    "取消已经选择的元素\n",
    "deselect_all() \n",
    "\n",
    "选择\n",
    "select_by_index(0), select_by_visible_text('text'), select_by_value(value)\n",
    "\n",
    "获取选中的获取所有select节点元素节点\n",
    "all_selected_options\n",
    "\n",
    "获取所有select元素节点\n",
    "options\n",
    "\n",
    "\n",
    "\"\"\"\n",
    "from selenium.webdriver.support.select import Select\n",
    "\n",
    "url = 'http://www.w3school.com.cn/tiy/t.asp?f=html_select_name'\n",
    "# url = 'http://www.w3school.com.cn/tiy/loadtext.asp?f=html_select_name'\n",
    "browers = webdriver.Chrome()\n",
    "browers.get(url)\n",
    "browers.switch_to.frame('i')\n",
    "select = Select(browers.find_element_by_name('carlist'))\n",
    "select.select_by_index(1)\n",
    "\n",
    "\n",
    "all_selected_options = select.all_selected_options\n",
    "print(all_selected_options)\n",
    "\n",
    "options = select.options\n",
    "print(options)\n"
   ]
  },
  {
   "cell_type": "code",
   "execution_count": 29,
   "metadata": {},
   "outputs": [
    {
     "name": "stdout",
     "output_type": "stream",
     "text": [
      "<selenium.webdriver.common.alert.Alert object at 0x000001D0E23AAB70>\n"
     ]
    }
   ],
   "source": [
    "\"\"\"\n",
    "拖放 未实验成功\n",
    "\"\"\"\n",
    "from selenium.webdriver import ActionChains\n",
    "\n",
    "browser = webdriver.Chrome()\n",
    "url = 'http://www.runoob.com/try/try.php?filename=jqueryui-api-droppable'\n",
    "browser.get(url)\n",
    "browser.switch_to.frame('iframeResult')\n",
    "source = browser.find_element_by_id('draggable')\n",
    "target = browser.find_element_by_id('droppable')\n",
    "action = ActionChains(browser)\n",
    "# action.drag_and_drop_by_offset(source, 10, 10).perform()\n",
    "ret = action.drag_and_drop(source, target).perform()\n",
    "\n",
    "# 获取弹出窗口\n",
    "ret = alert = browser.switch_to.alert\n",
    "print(ret)"
   ]
  },
  {
   "cell_type": "code",
   "execution_count": 9,
   "metadata": {},
   "outputs": [
    {
     "name": "stdout",
     "output_type": "stream",
     "text": [
      "CDwindow-46D375095F23EAB28EE222699FF41334\nCDwindow-9D8F358C5AF95111FEE4E768430B87C3\n"
     ]
    }
   ],
   "source": [
    "\"\"\"\n",
    "切换窗口\n",
    "\"\"\"\n",
    "browser = webdriver.Chrome()\n",
    "url = 'http://www.baidu.com'\n",
    "browser.get(url)\n",
    "js = 'window.open(\"https://www.sogou.com\");'\n",
    "browser.execute_script(js)\n",
    "for handle in browser.window_handles:\n",
    "    print(handle)\n",
    "    \n",
    "    browser.switch_to.window(browser.window_handles[0])\n",
    "# browers.switch_to.window(browser.window_handles[0])\n"
   ]
  },
  {
   "cell_type": "code",
   "execution_count": null,
   "metadata": {},
   "outputs": [
    {
     "ename": "NoSuchElementException",
     "evalue": "Message: Unable to locate element: [name=\"mpp\"]\n",
     "traceback": [
      "\u001b[0;31m---------------------------------------------------------------------------\u001b[0m",
      "\u001b[0;31mNoSuchElementException\u001b[0m                    Traceback (most recent call last)",
      "\u001b[0;32m<ipython-input-39-8bf951289059>\u001b[0m in \u001b[0;36m<module>\u001b[0;34m()\u001b[0m\n\u001b[1;32m     24\u001b[0m \u001b[0mdriver\u001b[0m\u001b[0;34m.\u001b[0m\u001b[0mimplicitly_wait\u001b[0m\u001b[0;34m(\u001b[0m\u001b[0;36m4\u001b[0m\u001b[0;34m)\u001b[0m\u001b[0;34m\u001b[0m\u001b[0m\n\u001b[1;32m     25\u001b[0m \u001b[0mdriver\u001b[0m\u001b[0;34m.\u001b[0m\u001b[0mget\u001b[0m\u001b[0;34m(\u001b[0m\u001b[0;34m\"http://www.baidu.com\"\u001b[0m\u001b[0;34m)\u001b[0m\u001b[0;34m\u001b[0m\u001b[0m\n\u001b[0;32m---> 26\u001b[0;31m \u001b[0mmyDynamicElement\u001b[0m \u001b[0;34m=\u001b[0m \u001b[0mdriver\u001b[0m\u001b[0;34m.\u001b[0m\u001b[0mfind_element_by_name\u001b[0m\u001b[0;34m(\u001b[0m\u001b[0;34m\"mpp\"\u001b[0m\u001b[0;34m)\u001b[0m\u001b[0;34m\u001b[0m\u001b[0m\n\u001b[0m\u001b[1;32m     27\u001b[0m \u001b[0mdriver\u001b[0m\u001b[0;34m.\u001b[0m\u001b[0mquit\u001b[0m\u001b[0;34m(\u001b[0m\u001b[0;34m)\u001b[0m\u001b[0;34m\u001b[0m\u001b[0m\n",
      "\u001b[0;32mF:\\work\\spiders\\lib\\site-packages\\selenium\\webdriver\\remote\\webdriver.py\u001b[0m in \u001b[0;36mfind_element_by_name\u001b[0;34m(self, name)\u001b[0m\n\u001b[1;32m    493\u001b[0m             \u001b[0melement\u001b[0m \u001b[0;34m=\u001b[0m \u001b[0mdriver\u001b[0m\u001b[0;34m.\u001b[0m\u001b[0mfind_element_by_name\u001b[0m\u001b[0;34m(\u001b[0m\u001b[0;34m'foo'\u001b[0m\u001b[0;34m)\u001b[0m\u001b[0;34m\u001b[0m\u001b[0m\n\u001b[1;32m    494\u001b[0m         \"\"\"\n\u001b[0;32m--> 495\u001b[0;31m         \u001b[0;32mreturn\u001b[0m \u001b[0mself\u001b[0m\u001b[0;34m.\u001b[0m\u001b[0mfind_element\u001b[0m\u001b[0;34m(\u001b[0m\u001b[0mby\u001b[0m\u001b[0;34m=\u001b[0m\u001b[0mBy\u001b[0m\u001b[0;34m.\u001b[0m\u001b[0mNAME\u001b[0m\u001b[0;34m,\u001b[0m \u001b[0mvalue\u001b[0m\u001b[0;34m=\u001b[0m\u001b[0mname\u001b[0m\u001b[0;34m)\u001b[0m\u001b[0;34m\u001b[0m\u001b[0m\n\u001b[0m\u001b[1;32m    496\u001b[0m \u001b[0;34m\u001b[0m\u001b[0m\n\u001b[1;32m    497\u001b[0m     \u001b[0;32mdef\u001b[0m \u001b[0mfind_elements_by_name\u001b[0m\u001b[0;34m(\u001b[0m\u001b[0mself\u001b[0m\u001b[0;34m,\u001b[0m \u001b[0mname\u001b[0m\u001b[0;34m)\u001b[0m\u001b[0;34m:\u001b[0m\u001b[0;34m\u001b[0m\u001b[0m\n",
      "\u001b[0;32mF:\\work\\spiders\\lib\\site-packages\\selenium\\webdriver\\remote\\webdriver.py\u001b[0m in \u001b[0;36mfind_element\u001b[0;34m(self, by, value)\u001b[0m\n\u001b[1;32m    964\u001b[0m         return self.execute(Command.FIND_ELEMENT, {\n\u001b[1;32m    965\u001b[0m             \u001b[0;34m'using'\u001b[0m\u001b[0;34m:\u001b[0m \u001b[0mby\u001b[0m\u001b[0;34m,\u001b[0m\u001b[0;34m\u001b[0m\u001b[0m\n\u001b[0;32m--> 966\u001b[0;31m             'value': value})['value']\n\u001b[0m\u001b[1;32m    967\u001b[0m \u001b[0;34m\u001b[0m\u001b[0m\n\u001b[1;32m    968\u001b[0m     \u001b[0;32mdef\u001b[0m \u001b[0mfind_elements\u001b[0m\u001b[0;34m(\u001b[0m\u001b[0mself\u001b[0m\u001b[0;34m,\u001b[0m \u001b[0mby\u001b[0m\u001b[0;34m=\u001b[0m\u001b[0mBy\u001b[0m\u001b[0;34m.\u001b[0m\u001b[0mID\u001b[0m\u001b[0;34m,\u001b[0m \u001b[0mvalue\u001b[0m\u001b[0;34m=\u001b[0m\u001b[0;32mNone\u001b[0m\u001b[0;34m)\u001b[0m\u001b[0;34m:\u001b[0m\u001b[0;34m\u001b[0m\u001b[0m\n",
      "\u001b[0;32mF:\\work\\spiders\\lib\\site-packages\\selenium\\webdriver\\remote\\webdriver.py\u001b[0m in \u001b[0;36mexecute\u001b[0;34m(self, driver_command, params)\u001b[0m\n\u001b[1;32m    318\u001b[0m         \u001b[0mresponse\u001b[0m \u001b[0;34m=\u001b[0m \u001b[0mself\u001b[0m\u001b[0;34m.\u001b[0m\u001b[0mcommand_executor\u001b[0m\u001b[0;34m.\u001b[0m\u001b[0mexecute\u001b[0m\u001b[0;34m(\u001b[0m\u001b[0mdriver_command\u001b[0m\u001b[0;34m,\u001b[0m \u001b[0mparams\u001b[0m\u001b[0;34m)\u001b[0m\u001b[0;34m\u001b[0m\u001b[0m\n\u001b[1;32m    319\u001b[0m         \u001b[0;32mif\u001b[0m \u001b[0mresponse\u001b[0m\u001b[0;34m:\u001b[0m\u001b[0;34m\u001b[0m\u001b[0m\n\u001b[0;32m--> 320\u001b[0;31m             \u001b[0mself\u001b[0m\u001b[0;34m.\u001b[0m\u001b[0merror_handler\u001b[0m\u001b[0;34m.\u001b[0m\u001b[0mcheck_response\u001b[0m\u001b[0;34m(\u001b[0m\u001b[0mresponse\u001b[0m\u001b[0;34m)\u001b[0m\u001b[0;34m\u001b[0m\u001b[0m\n\u001b[0m\u001b[1;32m    321\u001b[0m             response['value'] = self._unwrap_value(\n\u001b[1;32m    322\u001b[0m                 response.get('value', None))\n",
      "\u001b[0;32mF:\\work\\spiders\\lib\\site-packages\\selenium\\webdriver\\remote\\errorhandler.py\u001b[0m in \u001b[0;36mcheck_response\u001b[0;34m(self, response)\u001b[0m\n\u001b[1;32m    240\u001b[0m                 \u001b[0malert_text\u001b[0m \u001b[0;34m=\u001b[0m \u001b[0mvalue\u001b[0m\u001b[0;34m[\u001b[0m\u001b[0;34m'alert'\u001b[0m\u001b[0;34m]\u001b[0m\u001b[0;34m.\u001b[0m\u001b[0mget\u001b[0m\u001b[0;34m(\u001b[0m\u001b[0;34m'text'\u001b[0m\u001b[0;34m)\u001b[0m\u001b[0;34m\u001b[0m\u001b[0m\n\u001b[1;32m    241\u001b[0m             \u001b[0;32mraise\u001b[0m \u001b[0mexception_class\u001b[0m\u001b[0;34m(\u001b[0m\u001b[0mmessage\u001b[0m\u001b[0;34m,\u001b[0m \u001b[0mscreen\u001b[0m\u001b[0;34m,\u001b[0m \u001b[0mstacktrace\u001b[0m\u001b[0;34m,\u001b[0m \u001b[0malert_text\u001b[0m\u001b[0;34m)\u001b[0m\u001b[0;34m\u001b[0m\u001b[0m\n\u001b[0;32m--> 242\u001b[0;31m         \u001b[0;32mraise\u001b[0m \u001b[0mexception_class\u001b[0m\u001b[0;34m(\u001b[0m\u001b[0mmessage\u001b[0m\u001b[0;34m,\u001b[0m \u001b[0mscreen\u001b[0m\u001b[0;34m,\u001b[0m \u001b[0mstacktrace\u001b[0m\u001b[0;34m)\u001b[0m\u001b[0;34m\u001b[0m\u001b[0m\n\u001b[0m\u001b[1;32m    243\u001b[0m \u001b[0;34m\u001b[0m\u001b[0m\n\u001b[1;32m    244\u001b[0m     \u001b[0;32mdef\u001b[0m \u001b[0m_value_or_default\u001b[0m\u001b[0;34m(\u001b[0m\u001b[0mself\u001b[0m\u001b[0;34m,\u001b[0m \u001b[0mobj\u001b[0m\u001b[0;34m,\u001b[0m \u001b[0mkey\u001b[0m\u001b[0;34m,\u001b[0m \u001b[0mdefault\u001b[0m\u001b[0;34m)\u001b[0m\u001b[0;34m:\u001b[0m\u001b[0;34m\u001b[0m\u001b[0m\n",
      "\u001b[0;31mNoSuchElementException\u001b[0m: Message: Unable to locate element: [name=\"mpp\"]\n"
     ],
     "output_type": "error"
    }
   ],
   "source": [
    "\"\"\"\n",
    "等待加载\n",
    "\"\"\"\n",
    "\n",
    "\"\"\"\n",
    "显示等待\n",
    "在抛出TimeoutException异常之前将等待10秒或者在10秒内发现了查找的元素。 WebDriverWait 默认情况下会每500毫秒调用一次ExpectedCondition直到结果成功返回。 ExpectedCondition成功的返回结果是一个布尔类型的true或是不为null的返回值。\n",
    "EC还有很多等待条件\n",
    "\n",
    "\n",
    "\"\"\"\n",
    "from selenium.webdriver.common.by import By\n",
    "from selenium.webdriver.support.ui import WebDriverWait\n",
    "from selenium.webdriver.support import expected_conditions as EC\n",
    "driver = webdriver.Chrome()\n",
    "driver.get(\"http://www.baidu.com\")\n",
    "try:\n",
    "    element = WebDriverWait(driver, 10).until(\n",
    "        EC.presence_of_element_located((By.NAME, \"mp\"))\n",
    "    )\n",
    "finally:\n",
    "    driver.quit()\n",
    "\n",
    "# print('o')\n",
    "\"\"\"隐式等待 没有查找到节点，等待一段时间后再查找\"\"\"\n",
    "driver = webdriver.Firefox()\n",
    "driver.implicitly_wait(4) \n",
    "driver.get(\"http://www.baidu.com\")\n",
    "myDynamicElement = driver.find_element_by_name(\"mp\")\n",
    "driver.quit()"
   ]
  },
  {
   "cell_type": "code",
   "execution_count": 51,
   "metadata": {},
   "outputs": [
    {
     "name": "stdout",
     "output_type": "stream",
     "text": [
      "[{'name': 'l_n_c', 'httpOnly': False, 'value': '1', 'secure': False, 'domain': '.zhihu.com', 'path': '/'}, {'expiry': 1535947638.387623, 'name': 'tgw_l7_route', 'httpOnly': False, 'value': '3072ae0b421aa02514eac064fb2d64b5', 'secure': False, 'domain': 'www.zhihu.com', 'path': '/'}, {'expiry': 1535948541, 'name': '__utmb', 'httpOnly': False, 'value': '51854390.0.10.1535946741', 'secure': False, 'domain': '.zhihu.com', 'path': '/'}, {'expiry': 1630554738.387716, 'name': 'q_c1', 'httpOnly': False, 'value': '5408e55e057740a691b9df27688010a8|1535946739000|1535946739000', 'secure': False, 'domain': '.zhihu.com', 'path': '/'}, {'name': '_xsrf', 'httpOnly': False, 'value': 'b0aee970bb91c739f1ecf7095c60cae0', 'secure': False, 'domain': 'www.zhihu.com', 'path': '/'}, {'expiry': 1538538738.38778, 'name': 'r_cap_id', 'httpOnly': False, 'value': '\"OWY0Y2QyNGI2YTc0NDRhOWEwZmNiYzQ1YzMzM2RmYTM=|1535946739|6c22c88c927b38b753df541d3433f79f0d0a8e96\"', 'secure': False, 'domain': '.zhihu.com', 'path': '/'}, {'expiry': 1538538738.387819, 'name': 'cap_id', 'httpOnly': False, 'value': '\"YjM0MzBmMDY4ODlkNGI3MDhkYTUyMTRkMzgwYmI1NmE=|1535946739|70fdd0d28119983d614741acc1b7cbf0ef9e64ae\"', 'secure': False, 'domain': '.zhihu.com', 'path': '/'}, {'expiry': 1538538738.387864, 'name': 'l_cap_id', 'httpOnly': False, 'value': '\"N2M0ZTk1Njk5Njk5NDhjZWFmMTI1MTVlOTdjOTczM2Q=|1535946739|8d2016d2746b43f81bba1371ad4b1fe2491fa662\"', 'secure': False, 'domain': '.zhihu.com', 'path': '/'}, {'name': 'n_c', 'httpOnly': False, 'value': '1', 'secure': False, 'domain': '.zhihu.com', 'path': '/'}, {'expiry': 1630554741.207573, 'name': 'd_c0', 'httpOnly': False, 'value': '\"APDkWYF3Jw6PTm1pUybqLNSzsnn4ZeSHdxY=|1535946741\"', 'secure': False, 'domain': '.zhihu.com', 'path': '/'}, {'expiry': 1599018741, 'name': '_zap', 'httpOnly': False, 'value': '73787a66-e169-4e72-a46c-50e2e1f8b057', 'secure': False, 'domain': '.zhihu.com', 'path': '/'}, {'expiry': 1599018741, 'name': '__utma', 'httpOnly': False, 'value': '51854390.1461241191.1535946741.1535946741.1535946741.1', 'secure': False, 'domain': '.zhihu.com', 'path': '/'}, {'name': '__utmc', 'httpOnly': False, 'value': '51854390', 'secure': False, 'domain': '.zhihu.com', 'path': '/'}, {'expiry': 1551714741, 'name': '__utmz', 'httpOnly': False, 'value': '51854390.1535946741.1.1.utmcsr=(direct)|utmccn=(direct)|utmcmd=(none)', 'secure': False, 'domain': '.zhihu.com', 'path': '/'}, {'expiry': 1599018741, 'name': '__utmv', 'httpOnly': False, 'value': '51854390.000--|3=entry_date=20180903=1', 'secure': False, 'domain': '.zhihu.com', 'path': '/'}, {'expiry': 2166666741, 'name': 'pgy', 'httpOnly': False, 'value': '10', 'secure': True, 'domain': 'www.zhihu.com', 'path': '/'}]\n"
     ]
    },
    {
     "name": "stdout",
     "output_type": "stream",
     "text": [
      "[]\n"
     ]
    }
   ],
   "source": [
    "\"\"\"cookie\"\"\"\n",
    "browser = webdriver.Chrome()\n",
    "browser.get('https://www.zhihu.com/explore')\n",
    "# print(browser.get_cookies())\n",
    "browser.add_cookie({'name': 'pgy', 'domain':'www.zhihu.com', 'value':'10'})\n",
    "print(browser.get_cookies())\n",
    "browser.delete_all_cookies()\n",
    "print(browser.get_cookies())"
   ]
  },
  {
   "cell_type": "code",
   "execution_count": null,
   "metadata": {},
   "outputs": [],
   "source": []
  }
 ],
 "metadata": {
  "kernelspec": {
   "display_name": "Python 2",
   "language": "python",
   "name": "python2"
  },
  "language_info": {
   "codemirror_mode": {
    "name": "ipython",
    "version": 2
   },
   "file_extension": ".py",
   "mimetype": "text/x-python",
   "name": "python",
   "nbconvert_exporter": "python",
   "pygments_lexer": "ipython2",
   "version": "2.7.6"
  }
 },
 "nbformat": 4,
 "nbformat_minor": 0
}
