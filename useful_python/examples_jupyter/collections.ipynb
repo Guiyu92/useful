{
 "cells": [
  {
   "cell_type": "code",
   "execution_count": 4,
   "metadata": {
    "collapsed": true
   },
   "outputs": [
    {
     "name": "stdout",
     "output_type": "stream",
     "text": [
      "Website(name='Sohu', url='http://www.google.com/', founder='张朝阳')\n['__add__', '__class__', '__contains__', '__delattr__', '__dir__', '__doc__', '__eq__', '__format__', '__ge__', '__getattribute__', '__getitem__', '__getnewargs__', '__gt__', '__hash__', '__init__', '__init_subclass__', '__iter__', '__le__', '__len__', '__lt__', '__module__', '__mul__', '__ne__', '__new__', '__reduce__', '__reduce_ex__', '__repr__', '__rmul__', '__setattr__', '__sizeof__', '__slots__', '__str__', '__subclasshook__', '_asdict', '_fields', '_fields_defaults', '_make', '_replace', 'count', 'founder', 'index', 'name', 'url']\nWebsite(name='Sina', url='http://www.sina.com.cn/', founder='王志东')\n['__add__', '__class__', '__contains__', '__delattr__', '__dir__', '__doc__', '__eq__', '__format__', '__ge__', '__getattribute__', '__getitem__', '__getnewargs__', '__gt__', '__hash__', '__init__', '__init_subclass__', '__iter__', '__le__', '__len__', '__lt__', '__module__', '__mul__', '__ne__', '__new__', '__reduce__', '__reduce_ex__', '__repr__', '__rmul__', '__setattr__', '__sizeof__', '__slots__', '__str__', '__subclasshook__', '_asdict', '_fields', '_fields_defaults', '_make', '_replace', 'count', 'founder', 'index', 'name', 'url']\nWebsite(name='163', url='http://www.163.com/', founder='丁磊')\n['__add__', '__class__', '__contains__', '__delattr__', '__dir__', '__doc__', '__eq__', '__format__', '__ge__', '__getattribute__', '__getitem__', '__getnewargs__', '__gt__', '__hash__', '__init__', '__init_subclass__', '__iter__', '__le__', '__len__', '__lt__', '__module__', '__mul__', '__ne__', '__new__', '__reduce__', '__reduce_ex__', '__repr__', '__rmul__', '__setattr__', '__sizeof__', '__slots__', '__str__', '__subclasshook__', '_asdict', '_fields', '_fields_defaults', '_make', '_replace', 'count', 'founder', 'index', 'name', 'url']\n"
     ]
    }
   ],
   "source": [
    "# namedtuple() 用于给tuple批量添加名字\n",
    "from collections import namedtuple\n",
    "\n",
    "websites = [\n",
    "    ('Sohu', 'http://www.google.com/', u'张朝阳'),\n",
    "    ('Sina', 'http://www.sina.com.cn/', u'王志东'),\n",
    "    ('163', 'http://www.163.com/', u'丁磊')\n",
    "]\n",
    "\n",
    "Website = namedtuple('Website', ['name', 'url', 'founder'])\n",
    "\n",
    "for website in websites:\n",
    "    website = Website._make(website)\n",
    "    print(website)\n",
    "    print(dir(website))\n"
   ]
  }
 ],
 "metadata": {
  "kernelspec": {
   "display_name": "Python 2",
   "language": "python",
   "name": "python2"
  },
  "language_info": {
   "codemirror_mode": {
    "name": "ipython",
    "version": 2
   },
   "file_extension": ".py",
   "mimetype": "text/x-python",
   "name": "python",
   "nbconvert_exporter": "python",
   "pygments_lexer": "ipython2",
   "version": "2.7.6"
  }
 },
 "nbformat": 4,
 "nbformat_minor": 0
}
