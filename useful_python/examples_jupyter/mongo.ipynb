{
 "cells": [
  {
   "cell_type": "code",
   "execution_count": 29,
   "metadata": {
    "collapsed": true
   },
   "outputs": [],
   "source": [
    "from pymongo import MongoClient\n",
    "import configparser\n",
    "# 读取配置文件，连接mongo。mongo连接地址可自行更改，不提供个人配置。\n",
    "cf = configparser.ConfigParser()\n",
    "cf.read(\"private_setting.cfg\") \n",
    "MONGODB_URI = cf.get(\"mongo\", \"MONGODB_URI\")\n",
    "MONGODB_DB = cf.get(\"mongo\", \"MONGODB_DB\")\n",
    "MONGODB_COLLECTION = \"products\"\n",
    "# 连接创建一个数据库和一个集合\n",
    "client = MongoClient(MONGODB_URI)\n",
    "db = client[MONGODB_DB]\n",
    "col = db[MONGODB_COLLECTION]\n"
   ]
  },
  {
   "cell_type": "code",
   "execution_count": 37,
   "metadata": {},
   "outputs": [
    {
     "data": {
      "text/plain": [
       "<pymongo.results.UpdateResult at 0x28da801e988>"
      ]
     },
     "execution_count": 37,
     "metadata": {},
     "output_type": "execute_result"
    }
   ],
   "source": [
    "\n",
    "# 更新操作\n",
    "query_builder = {\"_id\":1.0}\n",
    "update_builder = {\"$setOnInsert\": {\"ok\":20}}\n",
    "\n",
    "col.update_one(query_builder, update_builder, upsert=True)\n",
    "\n",
    "\n",
    "\n"
   ]
  }
 ],
 "metadata": {
  "kernelspec": {
   "display_name": "Python 2",
   "language": "python",
   "name": "python2"
  },
  "language_info": {
   "codemirror_mode": {
    "name": "ipython",
    "version": 2
   },
   "file_extension": ".py",
   "mimetype": "text/x-python",
   "name": "python",
   "nbconvert_exporter": "python",
   "pygments_lexer": "ipython2",
   "version": "2.7.6"
  }
 },
 "nbformat": 4,
 "nbformat_minor": 0
}
